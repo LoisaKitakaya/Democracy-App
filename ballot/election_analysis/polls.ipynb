{
 "cells": [
  {
   "cell_type": "markdown",
   "metadata": {},
   "source": [
    "# Analysis of election Polls"
   ]
  }
 ],
 "metadata": {
  "kernelspec": {
   "display_name": "Python 3.10.5 ('.env': venv)",
   "language": "python",
   "name": "python3"
  },
  "language_info": {
   "name": "python",
   "version": "3.10.5"
  },
  "orig_nbformat": 4,
  "vscode": {
   "interpreter": {
    "hash": "c13f375d01c145f66465287ca375b19c1a824a91dcc7688f48cef1ab128fc00b"
   }
  }
 },
 "nbformat": 4,
 "nbformat_minor": 2
}
